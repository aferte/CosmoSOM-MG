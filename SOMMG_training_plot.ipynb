{
 "cells": [
  {
   "cell_type": "markdown",
   "metadata": {},
   "source": [
    "This notebook reproduces the training and plotting of SOM of Modified Gravity theories probed by cosmic shear, shown in https://arxiv.org/abs/2110.13171.\n",
    "\n",
    "The MG theories considered here are f(R) gravity, dilaton and symmetron.  \n",
    "You will need sompy (probably need to clone it from their repository https://github.com/sevamoo/SOMPY rather than pip install.)"
   ]
  },
  {
   "cell_type": "code",
   "execution_count": null,
   "metadata": {
    "collapsed": true
   },
   "outputs": [],
   "source": [
    "import sys\n",
    "#Here append the path to python packages\n",
    "sys.path.append(\"path/to/python/packages\")"
   ]
  },
  {
   "cell_type": "code",
   "execution_count": null,
   "metadata": {
    "scrolled": true
   },
   "outputs": [],
   "source": [
    "import sompy"
   ]
  },
  {
   "cell_type": "code",
   "execution_count": null,
   "metadata": {
    "collapsed": true
   },
   "outputs": [],
   "source": [
    "import numpy as np\n",
    "import matplotlib.pyplot as plt\n",
    "import numpy as np\n",
    "import matplotlib.colors as colors"
   ]
  },
  {
   "cell_type": "markdown",
   "metadata": {},
   "source": [
    "# 1. Read training set"
   ]
  },
  {
   "cell_type": "code",
   "execution_count": null,
   "metadata": {},
   "outputs": [],
   "source": [
    "#Read xi_pm for all MG models\n",
    "all_mg_data = np.load('training_set/som_mg_training_all.npy')"
   ]
  },
  {
   "cell_type": "code",
   "execution_count": null,
   "metadata": {},
   "outputs": [],
   "source": [
    "print('There are '+str(all_mg_data.shape[0])+' theoretical predictions of tomographic cosmic shear flattened to 1D vector of '+str(all_mg_data.shape[1])+' elements.')"
   ]
  },
  {
   "cell_type": "code",
   "execution_count": null,
   "metadata": {},
   "outputs": [],
   "source": [
    "#Read the values of the MG parameters for each theory\n",
    "\n",
    "#b0 values for f(R) gravity\n",
    "fr_b0_all = np.load('training_set/som_mg_training_fr_b0_vfinale.npy')\n",
    "\n",
    "#xi0 values for dilaton (beta0 = 2.2)\n",
    "dil_xi0_beta22 = np.load('training_set/som_mg_training_dil_xi0_beta22_tightrange_vfinale.npy')\n",
    "\n",
    "#xistar values for symmetron with betastar of 0.5, 1 and 1.5 (astar = 0.5) \n",
    "sym_xis_beta05 = np.load('training_set/som_mg_training_sym_xis_beta05_tightrange_vfinale.npy')\n",
    "sym_xis_beta1  = np.load('training_set/som_mg_training_sym_xis_beta1_tightrange_vfinale.npy')\n",
    "sym_xis_beta15 = np.load('training_set/som_mg_training_sym_xis_beta15_tightrange_vfinale.npy')"
   ]
  },
  {
   "cell_type": "markdown",
   "metadata": {},
   "source": [
    "# 2. Train SOM "
   ]
  },
  {
   "cell_type": "code",
   "execution_count": null,
   "metadata": {
    "collapsed": true
   },
   "outputs": [],
   "source": [
    "#dimension of the 2D grid\n",
    "som_size_x = 6\n",
    "som_size_y = 6"
   ]
  },
  {
   "cell_type": "code",
   "execution_count": null,
   "metadata": {
    "scrolled": false
   },
   "outputs": [],
   "source": [
    "#Train the SOM on all MG models\n",
    "som_mg = sompy.SOMFactory.build(all_mg_data, mapsize=[som_size_x,som_size_y], mapshape='planar', lattice='rect', initialization='pca') \n",
    "som_mg.train(n_job=4, shared_memory = 'no')"
   ]
  },
  {
   "cell_type": "markdown",
   "metadata": {},
   "source": [
    "# 3. Plot SOM "
   ]
  },
  {
   "cell_type": "code",
   "execution_count": null,
   "metadata": {},
   "outputs": [],
   "source": [
    "#From BMU to coordinate x,y\n",
    "som_xy = som_mg.bmu_ind_to_xy(som_mg.project_data(all_mg_data))\n",
    "x,y = np.zeros(len(som_xy)),np.zeros(len(som_xy))\n",
    "\n",
    "k=0\n",
    "for i in som_xy:\n",
    "    x[k]=i[0]\n",
    "    y[k]=i[1]\n",
    "    k+=1\n",
    "\n",
    "#Initialize grid of number of models \n",
    "dens_all = np.zeros([som_size_x,som_size_y])\n",
    "#Initialize grid of number of models per MG theories\n",
    "dens_b0 = np.zeros([som_size_x,som_size_y])\n",
    "dens_dil_xi0_beta22 = np.zeros([som_size_x,som_size_y])\n",
    "dens_sym_xi_beta05  = np.zeros([som_size_x,som_size_y])\n",
    "dens_sym_xi_beta1   = np.zeros([som_size_x,som_size_y])\n",
    "dens_sym_xi_beta15  = np.zeros([som_size_x,som_size_y])\n",
    "#Initialize grid of MG parameters values\n",
    "som_b0             = np.zeros([som_size_x,som_size_y])\n",
    "som_dil_xi0_beta22 = np.zeros([som_size_x,som_size_y])\n",
    "som_sym_xi_beta05  = np.zeros([som_size_x,som_size_y])\n",
    "som_sym_xi_beta1   = np.zeros([som_size_x,som_size_y])\n",
    "som_sym_xi_beta15  = np.zeros([som_size_x,som_size_y])\n",
    "\n",
    "\n",
    "\n",
    "#number of models for each theory to index the grid.\n",
    "n_model = 100\n",
    "\n",
    "for i in range(som_size_x):\n",
    "    for j in range(som_size_y):\n",
    "        cell_coord=(x==i)&(y==j)\n",
    "\n",
    "        #Grid of the number of models per cell\n",
    "        dens_all[i,j] = (np.sum(cell_coord))\n",
    "        \n",
    "        dens_b0[i,j] = np.sum(cell_coord[:n_model])\n",
    "        dens_dil_xi0_beta22[i,j] = np.sum(cell_coord[n_model:n_model*2])\n",
    "        dens_sym_xi_beta05[i,j]  = np.sum(cell_coord[n_model*2:n_model*3])\n",
    "        dens_sym_xi_beta1[i,j]   = np.sum(cell_coord[n_model*3:n_model*4])\n",
    "        dens_sym_xi_beta15[i,j]  = np.sum(cell_coord[n_model*4:n_model*5])\n",
    "  \n",
    "        #Grid of median of MG values per cell\n",
    "        som_b0[i,j]             = (np.median(fr_b0_all[cell_coord[:n_model]]))\n",
    "        som_dil_xi0_beta22[i,j] = (np.median(dil_xi0_beta22[cell_coord[n_model:n_model*2]]))\n",
    "        som_sym_xi_beta05[i,j]  = (np.median(sym_xis_beta05[cell_coord[n_model*2:n_model*3]]))\n",
    "        som_sym_xi_beta1[i,j]   = (np.median(sym_xis_beta1[cell_coord[n_model*3:n_model*4]]))\n",
    "        som_sym_xi_beta15[i,j]  = (np.median(sym_xis_beta15[cell_coord[n_model*4:n_model*5]]))\n",
    "        \n",
    "        \n",
    "        "
   ]
  },
  {
   "cell_type": "code",
   "execution_count": null,
   "metadata": {
    "collapsed": true
   },
   "outputs": [],
   "source": [
    "#To plot empty cells as white cells\n",
    "dens_all[np.where(dens_all == 0.)] = float(\"NaN\")\n"
   ]
  },
  {
   "cell_type": "markdown",
   "metadata": {},
   "source": [
    "Plot the grid of number of models per cell - Figure 2 of the paper "
   ]
  },
  {
   "cell_type": "code",
   "execution_count": null,
   "metadata": {},
   "outputs": [],
   "source": [
    "plt.figure(figsize=(3,3),dpi=400)\n",
    "plt.imshow(dens_all, origin = 'lower',interpolation='none',norm=colors.LogNorm(vmin=np.nanmin(dens_all),vmax=np.nanmax(dens_all)))\n",
    "plt.xticks([])\n",
    "plt.yticks([])\n",
    "cb = plt.colorbar()\n",
    "cb.set_label(label='Number of models', size=6,labelpad=10)\n",
    "cb.ax.tick_params(labelsize=6)\n",
    "plt.show()"
   ]
  },
  {
   "cell_type": "markdown",
   "metadata": {},
   "source": [
    "Plot the grid of values of the MG parameters per cell - Figure 2 of the paper "
   ]
  },
  {
   "cell_type": "code",
   "execution_count": null,
   "metadata": {},
   "outputs": [],
   "source": [
    "#f(R) gravity - left panel of Fig. 3\n",
    "plt.figure(figsize=(4,4),dpi=300)\n",
    "cf = plt.imshow(som_b0, origin = 'lower',norm=colors.LogNorm(vmin=np.nanmin(som_b0), vmax=np.nanmax(som_b0)),interpolation='none',cmap=plt.get_cmap('magma'))\n",
    "cb = plt.colorbar(cf)   \n",
    "plt.xticks([])\n",
    "plt.yticks([])\n",
    "plt.title('f(R) gravity',size=13)\n",
    "cb.set_label(r'$\\rm B_{0}$', size=15,labelpad=4)\n",
    "plt.show()"
   ]
  },
  {
   "cell_type": "code",
   "execution_count": null,
   "metadata": {},
   "outputs": [],
   "source": [
    "#Dilaton - middle panel of Fig. 3\n",
    "plt.figure(figsize=(4,4),dpi=300)\n",
    "cf = plt.imshow(som_dil_xi0_beta22, origin = 'lower',norm=colors.LogNorm(vmin=np.nanmin(som_dil_xi0_beta22), vmax=np.nanmax(som_dil_xi0_beta22)),interpolation='none',cmap=plt.get_cmap('magma'))\n",
    "cb = plt.colorbar(cf)   \n",
    "plt.xticks([])\n",
    "plt.yticks([])\n",
    "plt.title(r'Dilaton (with $\\beta_0$ = 2.2)',size=13)\n",
    "cb.set_label(r'$\\rm \\xi_{0}$', size=15,labelpad=4)\n",
    "cb.ax.tick_params(labelsize=11)\n",
    "plt.show()"
   ]
  },
  {
   "cell_type": "code",
   "execution_count": null,
   "metadata": {},
   "outputs": [],
   "source": [
    "#Symmetron (only for beta_star = 1) - right panel of Fig. 3\n",
    "plt.figure(figsize=(4,4),dpi=300)\n",
    "cf = plt.imshow(som_sym_xi_beta1, origin = 'lower',norm=colors.LogNorm(vmin=np.nanmin(som_sym_xi_beta1), vmax=np.nanmax(som_sym_xi_beta1)),interpolation='none',cmap=plt.get_cmap('magma'))\n",
    "cb = plt.colorbar(cf)   \n",
    "plt.xticks([])\n",
    "plt.yticks([])\n",
    "plt.title(r'Symmetron (with $\\beta_{*}$ = 1)',size=13)\n",
    "cb.set_label(r'$\\rm \\xi_{*}$', size=15,labelpad=4)\n",
    "cb.ax.tick_params(labelsize=11)\n",
    "plt.show()"
   ]
  },
  {
   "cell_type": "markdown",
   "metadata": {},
   "source": [
    "# 4. Plot models "
   ]
  },
  {
   "cell_type": "markdown",
   "metadata": {},
   "source": [
    "Read all the correlation functions:"
   ]
  },
  {
   "cell_type": "code",
   "execution_count": null,
   "metadata": {
    "collapsed": true
   },
   "outputs": [],
   "source": [
    "models=np.zeros([som_size_x,som_size_y],dtype=object)\n",
    "x,y = np.zeros(len(som_xy)),np.zeros(len(som_xy))\n",
    "k=0\n",
    "\n",
    "for i in som_xy:\n",
    "    x[k]=i[0]\n",
    "    y[k]=i[1]\n",
    "    k+=1\n",
    "    \n",
    "for i in range(som_size_x):\n",
    "    for j in range(som_size_y):\n",
    "        cell_coord=(x==i)&(y==j)\n",
    "        models[i,j]=(all_mg_data[cell_coord])"
   ]
  },
  {
   "cell_type": "code",
   "execution_count": null,
   "metadata": {},
   "outputs": [],
   "source": [
    "data_vector_median_somcell = np.zeros([som_size_x,som_size_y],dtype=object)\n",
    "for i in range(som_size_x):\n",
    "    for j in range(som_size_y):\n",
    "        data_vector_median_somcell[i,j] = np.mean(models[i,j],axis=0 ,dtype=np.float64)\n",
    "data_vector_median_somcell = np.array(data_vector_median_somcell)"
   ]
  },
  {
   "cell_type": "markdown",
   "metadata": {},
   "source": [
    "Read theta values:"
   ]
  },
  {
   "cell_type": "code",
   "execution_count": null,
   "metadata": {},
   "outputs": [],
   "source": [
    "theta = np.load('training_set/theta_xip.npy')"
   ]
  },
  {
   "cell_type": "markdown",
   "metadata": {},
   "source": [
    "Plot xi_+^22 for selected models:"
   ]
  },
  {
   "cell_type": "code",
   "execution_count": null,
   "metadata": {},
   "outputs": [],
   "source": [
    "!pip install astropy"
   ]
  },
  {
   "cell_type": "code",
   "execution_count": null,
   "metadata": {
    "collapsed": true
   },
   "outputs": [],
   "source": [
    "#ordering = xi_+ ^bin 11 , xi_+ ^bin 21, xi_+ ^bin 22,   xi_+  ^bin 31, ..., x- bin11, x- bin21"
   ]
  },
  {
   "cell_type": "code",
   "execution_count": null,
   "metadata": {
    "collapsed": true
   },
   "outputs": [],
   "source": [
    "#Read covariance matrix\n",
    "#LSST Y10 like\n",
    "#bin 22, bin 22 block (which is 1 1 1 1 in the output (bins start at 0))\n",
    "covariance_lsst = np.genfromtxt('covariance/lsst_ssss_++_cov_Ntheta26_Ntomo10_506')\n",
    "\n",
    "auto = (covariance_lsst[:,2] == covariance_lsst[:,3])\n",
    "theta_bin = covariance_lsst[auto,2]*60.*180./np.pi\n",
    "sigma_lsst = np.sqrt(covariance_lsst[auto,-2])\n",
    "\n"
   ]
  },
  {
   "cell_type": "code",
   "execution_count": null,
   "metadata": {
    "collapsed": true
   },
   "outputs": [],
   "source": [
    "import matplotlib.pyplot as plt\n",
    "from scipy import interpolate\n",
    "gr_interp = interpolate.interp1d(theta,data_vector_median_somcell[4,0][765*2:765*2+765])"
   ]
  },
  {
   "cell_type": "code",
   "execution_count": null,
   "metadata": {
    "collapsed": true
   },
   "outputs": [],
   "source": [
    "theta_bin_range = (theta_bin > 30.) & (theta_bin < 300.) "
   ]
  },
  {
   "cell_type": "code",
   "execution_count": null,
   "metadata": {},
   "outputs": [],
   "source": [
    "import matplotlib\n",
    "plt.clf()\n",
    "plt.figure(figsize=(12,7),dpi=300)\n",
    "matplotlib.rc('xtick', labelsize=25) \n",
    "matplotlib.rc('ytick', labelsize=25)\n",
    "\n",
    "\n",
    "plt.plot(theta,10.**6*data_vector_median_somcell[4,0][765*2:765*2+765],label='Cell 1 - GR',color='black',linewidth=3)\n",
    "plt.errorbar(theta_bin[theta_bin_range],10.**6*gr_interp(theta_bin[theta_bin_range]),yerr=10.**6*sigma_lsst[theta_bin_range],fmt='.',color='black',label='LSST-like')\n",
    "\n",
    "plt.plot(1,1,label='Cell 2',color='#9ebcda',linewidth=3)\n",
    "plt.plot(theta,10.**6*models[5,5][0][765*2:765*2+765],linestyle='dashed',color='#9ebcda',linewidth=3)\n",
    "plt.plot(theta,10.**6*models[5,5][16][765*2:765*2+765],linestyle='dotted',color='#9ebcda',linewidth=3)\n",
    "\n",
    "plt.plot(1,1,label='Cell 3',color='#8856a7',linewidth=3)\n",
    "plt.plot(theta,10.**6*models[0,5][0][765*2:765*2+765],linestyle='dashed',color='#8856a7',linewidth=3)\n",
    "plt.plot(theta,10.**6*models[0,5][20][765*2:765*2+765],linestyle='dotted',color='#8856a7',linewidth=3)\n",
    "plt.ylabel(r'$10^6 \\xi^{22}_+(\\theta)$',fontsize=32)\n",
    "plt.ylim(5*1e-2,20.)\n",
    "plt.xlim(np.min(theta),np.max(theta))\n",
    "plt.legend(fontsize=23,frameon=False)\n",
    "plt.yscale('log')\n",
    "plt.xscale('log')\n",
    "\n",
    "plt.xscale('log')\n",
    "plt.xlim(np.min(theta),np.max(theta))\n",
    "plt.xlabel(r'$\\theta $ (arcmin)',fontsize=32)\n",
    "\n",
    "plt.show()\n"
   ]
  },
  {
   "cell_type": "markdown",
   "metadata": {},
   "source": [
    "# 5. Application to (w0,wa) "
   ]
  },
  {
   "cell_type": "markdown",
   "metadata": {},
   "source": [
    "Read w0,wa models"
   ]
  },
  {
   "cell_type": "code",
   "execution_count": null,
   "metadata": {},
   "outputs": [],
   "source": [
    "w0wa_apriori = np.load('training_set/test_gr.npy') "
   ]
  },
  {
   "cell_type": "code",
   "execution_count": null,
   "metadata": {
    "collapsed": true
   },
   "outputs": [],
   "source": [
    "w0wa_all_mg = np.concatenate((all_mg_data,w0wa_apriori),axis=0)"
   ]
  },
  {
   "cell_type": "markdown",
   "metadata": {},
   "source": [
    "Read MG models "
   ]
  },
  {
   "cell_type": "code",
   "execution_count": null,
   "metadata": {
    "collapsed": true
   },
   "outputs": [],
   "source": [
    "#We train the SOM on the training set with linearly varied MG parameters\n",
    "#but we project MG models for randomly sampled MG parameters values on the SOM\n",
    "fr_apriori    = np.load('training_set/som_mg_apriori_fr_vfinale.npy')\n",
    "dil_apriori = np.load('training_set/som_mg_apriori_dilaton_vfinale.npy')\n",
    "sym_apriori = np.load('training_set/som_mg_apriori_symmetron_vfinale.npy')\n",
    "sym_apriori_05 = np.load('training_set/som_mg_apriori_symmetron_beta05_vfinale.npy')\n",
    "sym_apriori_15 = np.load('training_set/som_mg_apriori_symmetron_beta15_vfinale.npy')"
   ]
  },
  {
   "cell_type": "markdown",
   "metadata": {},
   "source": [
    "Train with w0,wa"
   ]
  },
  {
   "cell_type": "code",
   "execution_count": null,
   "metadata": {},
   "outputs": [],
   "source": [
    "som_size_x=6\n",
    "som_size_y=6\n",
    "\n",
    "som_mg = sompy.SOMFactory.build(w0wa_all_mg, mapsize=[som_size_x,som_size_y], mapshape='planar', lattice='rect', initialization='pca') \n",
    "som_mg.train(n_job=4, shared_memory = 'no')\n",
    "\n"
   ]
  },
  {
   "cell_type": "markdown",
   "metadata": {},
   "source": [
    "SOM and plots"
   ]
  },
  {
   "cell_type": "code",
   "execution_count": null,
   "metadata": {},
   "outputs": [],
   "source": [
    "som_all = som_mg.bmu_ind_to_xy(som_mg.project_data(w0wa_all_mg))\n",
    "\n",
    "x,y = np.zeros(len(som_all)),np.zeros(len(som_all))\n",
    "k=0\n",
    "for i in som_all:\n",
    "    x[k]=i[0]\n",
    "    y[k]=i[1]\n",
    "    k+=1\n",
    "    \n",
    "\n",
    "#number of models\n",
    "dens_w0wa = np.zeros([som_size_x,som_size_y])\n",
    "dens_mg = np.zeros([som_size_x,som_size_y])\n",
    "n_model_w0wa = 96\n",
    "\n",
    "for i in range(som_size_x):\n",
    "    for j in range(som_size_y):\n",
    "        cell_coord=(x==i)&(y==j)\n",
    "        dens_w0wa[i,j] = (np.sum(cell_coord[-n_model_w0wa:]))\n",
    "        dens_mg[i,j] = (np.sum(cell_coord[:-n_model_w0wa]))\n",
    "\n",
    "dens_w0wa_apriori = np.copy(dens_w0wa)\n",
    "dens_w0wa_apriori[np.where(dens_w0wa == 0.)] = float(\"NaN\")\n",
    "\n",
    "dens_mg_all = np.copy(dens_mg)\n",
    "dens_mg_all[np.where(dens_mg == 0.)] = float(\"NaN\")\n",
    "\n",
    "\n",
    "plt.clf()\n",
    "plt.figure(figsize=(3,3),dpi=200)\n",
    "\n",
    "fig, (ax, ax2, cax) = plt.subplots(ncols=3,figsize=(10,5), \n",
    "                  gridspec_kw={\"width_ratios\":[1,1,0.05]})\n",
    "fig.subplots_adjust(wspace=0.3)\n",
    "\n",
    "\n",
    "im1 = ax.imshow(dens_w0wa_apriori, origin = 'lower', vmax=25.,interpolation='none')\n",
    "ax.set_xticks([])\n",
    "ax.set_yticks([])\n",
    "ax.set_title(r'($w_0$, $w_a$)', size=15)\n",
    "\n",
    "im2 = ax2.imshow(dens_mg_all, origin = 'lower',vmax=25.,interpolation='none')\n",
    "ax2.set_xticks([])\n",
    "ax2.set_yticks([])\n",
    "ax2.set_title(r'All MG models', size=15)\n",
    "\n",
    "\n",
    "cb = plt.colorbar(im2,cax=cax)   \n",
    "cb.set_label(r'Number of models',size=20,labelpad=20)\n",
    "cb.ax.tick_params(labelsize=18)\n",
    "\n",
    "plt.show()"
   ]
  },
  {
   "cell_type": "code",
   "execution_count": null,
   "metadata": {},
   "outputs": [],
   "source": [
    "som_w0wa = som_mg.bmu_ind_to_xy(som_mg.project_data(w0wa_apriori))\n",
    "\n",
    "x,y = np.zeros(len(som_w0wa)),np.zeros(len(som_w0wa))\n",
    "k=0\n",
    "for i in som_w0wa:\n",
    "    x[k]=i[0]\n",
    "    y[k]=i[1]\n",
    "    k+=1\n",
    "    \n",
    "\n",
    "#number of models\n",
    "dens_w0wa = np.zeros([som_size_x,som_size_y])\n",
    "som_w0 = np.zeros([som_size_x,som_size_y])\n",
    "\n",
    "for i in range(som_size_x):\n",
    "    for j in range(som_size_y):\n",
    "        cell_coord=(x==i)&(y==j)\n",
    "        dens_w0wa[i,j] = (np.sum(cell_coord))\n",
    "        som_w0[i,j]   = (np.median(sym_xis_beta1[cell_coord[n_model*3:n_model*4]]))\n",
    "\n",
    "dens_w0wa_apriori = np.copy(dens_w0wa)\n",
    "dens_w0wa_apriori[np.where(dens_w0wa == 0.)] = float(\"NaN\")\n",
    "\n",
    "plt.figure(figsize=(3,3),dpi=400)\n",
    "plt.imshow(dens_w0wa_apriori, origin = 'lower',interpolation='none')\n",
    "plt.xticks([])\n",
    "plt.yticks([])\n",
    "plt.clim(1,25)\n",
    "cb = plt.colorbar()\n",
    "cb.set_label(label='Number of models', size=6,labelpad=10)\n",
    "plt.title(r'($w_0$, $w_a$)', size=8)\n",
    "cb.ax.tick_params(labelsize=6)\n",
    "plt.show()"
   ]
  },
  {
   "cell_type": "code",
   "execution_count": null,
   "metadata": {},
   "outputs": [],
   "source": [
    "som_fr = som_mg.bmu_ind_to_xy(som_mg.project_data(all_mg_data))\n",
    "\n",
    "x,y = np.zeros(len(som_fr)),np.zeros(len(som_fr))\n",
    "k=0\n",
    "for i in som_fr:\n",
    "    x[k]=i[0]\n",
    "    y[k]=i[1]\n",
    "    k+=1\n",
    "    \n",
    "\n",
    "#number of models\n",
    "dens_mg = np.zeros([som_size_x,som_size_y])\n",
    "\n",
    "for i in range(som_size_x):\n",
    "    for j in range(som_size_y):\n",
    "        cell_coord=(x==i)&(y==j)\n",
    "        dens_mg[i,j] = (np.sum(cell_coord))\n",
    "\n",
    "dens_mg_apriori = np.copy(dens_mg)\n",
    "dens_mg_apriori[np.where(dens_mg == 0.)] = float(\"NaN\")\n",
    "\n",
    "plt.figure(figsize=(3,3),dpi=400)\n",
    "plt.imshow(dens_mg_apriori, origin = 'lower',interpolation='none')\n",
    "plt.xticks([])\n",
    "plt.yticks([])\n",
    "plt.clim(1,25)\n",
    "plt.title('All MG models',size=12)\n",
    "plt.show()"
   ]
  },
  {
   "cell_type": "code",
   "execution_count": null,
   "metadata": {},
   "outputs": [],
   "source": [
    "som_fr = som_mg.bmu_ind_to_xy(som_mg.project_data(fr_apriori))\n",
    "\n",
    "x,y = np.zeros(len(som_fr)),np.zeros(len(som_fr))\n",
    "k=0\n",
    "for i in som_fr:\n",
    "    x[k]=i[0]\n",
    "    y[k]=i[1]\n",
    "    k+=1\n",
    "    \n",
    "\n",
    "#number of models\n",
    "dens_fr = np.zeros([som_size_x,som_size_y])\n",
    "\n",
    "for i in range(som_size_x):\n",
    "    for j in range(som_size_y):\n",
    "        cell_coord=(x==i)&(y==j)\n",
    "        dens_fr[i,j] = (np.sum(cell_coord))\n",
    "\n",
    "dens_fr_apriori = np.copy(dens_fr)\n",
    "dens_fr_apriori[np.where(dens_fr == 0.)] = float(\"NaN\")\n",
    "\n",
    "  \n",
    "plt.figure(figsize=(3,3),dpi=400)\n",
    "plt.imshow(dens_fr_apriori, origin = 'lower',interpolation='none')\n",
    "plt.xticks([])\n",
    "plt.yticks([])\n",
    "plt.clim(1,25)\n",
    "plt.title('f(R) gravity',size=12)\n",
    "plt.show()"
   ]
  },
  {
   "cell_type": "code",
   "execution_count": null,
   "metadata": {},
   "outputs": [],
   "source": [
    "som_dil = som_mg.bmu_ind_to_xy(som_mg.project_data(dil_apriori))\n",
    "\n",
    "x,y = np.zeros(len(som_dil)),np.zeros(len(som_dil))\n",
    "k=0\n",
    "for i in som_dil:\n",
    "    x[k]=i[0]\n",
    "    y[k]=i[1]\n",
    "    k+=1\n",
    "    \n",
    "\n",
    "#number of models\n",
    "dens_dil = np.zeros([som_size_x,som_size_y])\n",
    "\n",
    "for i in range(som_size_x):\n",
    "    for j in range(som_size_y):\n",
    "        cell_coord=(x==i)&(y==j)\n",
    "        dens_dil[i,j] = (np.sum(cell_coord))\n",
    "\n",
    "dens_dil_apriori = np.copy(dens_dil)\n",
    "dens_dil_apriori[np.where(dens_dil == 0.)] = float(\"NaN\")\n",
    "\n",
    "  \n",
    "plt.figure(figsize=(3,3),dpi=400)\n",
    "plt.imshow(dens_dil_apriori, origin = 'lower',interpolation='none')\n",
    "plt.xticks([])\n",
    "plt.yticks([])\n",
    "plt.clim(1,25)\n",
    "plt.title('Dilaton',size=12)\n",
    "# cb = plt.colorbar()\n",
    "# cb.set_label(label='Number of models', size=6,labelpad=1)\n",
    "# cb.ax.tick_params(labelsize=6)\n",
    "\n",
    "plt.show()"
   ]
  },
  {
   "cell_type": "code",
   "execution_count": null,
   "metadata": {},
   "outputs": [],
   "source": [
    "som_sym_beta05 = som_mg.bmu_ind_to_xy(som_mg.project_data(sym_apriori_05))\n",
    "\n",
    "x,y = np.zeros(len(som_sym_beta05)),np.zeros(len(som_sym_beta05))\n",
    "k=0\n",
    "for i in som_sym_beta05:\n",
    "    x[k]=i[0]\n",
    "    y[k]=i[1]\n",
    "    k+=1\n",
    "    \n",
    "\n",
    "#number of models\n",
    "dens_sym05 = np.zeros([som_size_x,som_size_y])\n",
    "\n",
    "for i in range(som_size_x):\n",
    "    for j in range(som_size_y):\n",
    "        cell_coord=(x==i)&(y==j)\n",
    "        dens_sym05[i,j] = (np.sum(cell_coord))\n",
    "#########\n",
    "som_sym_beta1 = som_mg.bmu_ind_to_xy(som_mg.project_data(sym_apriori))\n",
    "\n",
    "x,y = np.zeros(len(som_sym_beta1)),np.zeros(len(som_sym_beta1))\n",
    "k=0\n",
    "for i in som_sym_beta1:\n",
    "    x[k]=i[0]\n",
    "    y[k]=i[1]\n",
    "    k+=1\n",
    "    \n",
    "\n",
    "#number of models\n",
    "dens_sym = np.zeros([som_size_x,som_size_y])\n",
    "\n",
    "for i in range(som_size_x):\n",
    "    for j in range(som_size_y):\n",
    "        cell_coord=(x==i)&(y==j)\n",
    "        dens_sym[i,j] = (np.sum(cell_coord))        \n",
    "#########\n",
    "som_sym_beta15 = som_mg.bmu_ind_to_xy(som_mg.project_data(sym_apriori_15))\n",
    "\n",
    "x,y = np.zeros(len(som_sym_beta15)),np.zeros(len(som_sym_beta15))\n",
    "k=0\n",
    "for i in som_sym_beta15:\n",
    "    x[k]=i[0]\n",
    "    y[k]=i[1]\n",
    "    k+=1\n",
    "    \n",
    "\n",
    "#number of models\n",
    "dens_sym15 = np.zeros([som_size_x,som_size_y])\n",
    "\n",
    "for i in range(som_size_x):\n",
    "    for j in range(som_size_y):\n",
    "        cell_coord=(x==i)&(y==j)\n",
    "        dens_sym15[i,j] = (np.sum(cell_coord))  \n",
    "\n",
    "dens_sym_all = dens_sym05+dens_sym+dens_sym15\n",
    "dens_sym_all_apriori = np.copy(dens_sym_all)\n",
    "dens_sym_all_apriori[np.where(dens_sym_all == 0.)] = float(\"NaN\")\n",
    "\n",
    "  \n",
    "plt.figure(figsize=(3,3),dpi=400)\n",
    "plt.imshow(dens_sym_all_apriori, origin = 'lower',interpolation='none')\n",
    "plt.xticks([])\n",
    "plt.yticks([])\n",
    "plt.clim(1,25)\n",
    "plt.title('Symmetron',size=12)\n",
    "plt.show()"
   ]
  }
 ],
 "metadata": {
  "kernelspec": {
   "display_name": "Python 3",
   "language": "python",
   "name": "python3"
  },
  "language_info": {
   "codemirror_mode": {
    "name": "ipython",
    "version": 3
   },
   "file_extension": ".py",
   "mimetype": "text/x-python",
   "name": "python",
   "nbconvert_exporter": "python",
   "pygments_lexer": "ipython3",
   "version": "3.6.1"
  }
 },
 "nbformat": 4,
 "nbformat_minor": 2
}
